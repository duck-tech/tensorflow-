{
 "cells": [
  {
   "cell_type": "code",
   "execution_count": null,
   "source": [
    "# TensorFlow 臉部辨識\r\n",
    "# 影像背景模糊 (有臉的地方找出來)\r\n",
    "# 即時視訊影像處理 (單一照片可以的話就可以用很多做處理)"
   ],
   "outputs": [],
   "metadata": {}
  },
  {
   "cell_type": "markdown",
   "source": [
    "# 運用技術總覽\r\n",
    "## TensorFlow.js:\r\n",
    "1. Google 近幾年加入JavaScript的版本\r\n",
    "2. 提供適合手機、網頁前端(適合終端裝置)，輕量高效的臉部辨識模型\r\n",
    "3. (限制) 適合臉部占比比較大的影像，處理速度可支援即時視訊\r\n",
    "## Canvas 影像處理\r\n",
    "1. 提供常見濾鏡功能\r\n",
    "2. 提供影像裁切功能\r\n",
    "## MediaDevice 多媒體串流\r\n",
    "1. 從攝影鏡頭取得視訊串流\r\n",
    "2. 即時視訊的影像處理"
   ],
   "metadata": {}
  },
  {
   "cell_type": "markdown",
   "source": [],
   "metadata": {}
  }
 ],
 "metadata": {
  "orig_nbformat": 4,
  "language_info": {
   "name": "python"
  }
 },
 "nbformat": 4,
 "nbformat_minor": 2
}